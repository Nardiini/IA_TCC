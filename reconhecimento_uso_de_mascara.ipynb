{
  "nbformat": 4,
  "nbformat_minor": 0,
  "metadata": {
    "colab": {
      "name": "reconhecimento_uso_de_mascara.ipynb",
      "provenance": [],
      "collapsed_sections": [],
      "mount_file_id": "1cilM0C0vEeb_1Y9DktAlbCG9WHfTL48b",
      "authorship_tag": "ABX9TyMos3SASSjFKI5YG7v1JzOA"
    },
    "kernelspec": {
      "name": "python3",
      "display_name": "Python 3"
    }
  },
  "cells": [
    {
      "cell_type": "code",
      "metadata": {
        "id": "ToicCHmAb6EK"
      },
      "source": [
        "import tensorflow as tf\n",
        "import tensorflow.keras as keras\n",
        "import sklearn.preprocessing\n",
        "from sklearn.model_selection import train_test_split\n",
        "\n",
        "import keras.layers as layers\n",
        "import keras.models as models\n",
        "\n",
        "import cv2 as cv\n",
        "import matplotlib.pyplot as plt\n",
        "import numpy as np\n",
        "\n",
        "import os"
      ],
      "execution_count": null,
      "outputs": []
    },
    {
      "cell_type": "code",
      "metadata": {
        "id": "FUt1G_PtgJhn"
      },
      "source": [
        "!unzip dataset_otimizado.zip"
      ],
      "execution_count": null,
      "outputs": []
    },
    {
      "cell_type": "code",
      "metadata": {
        "id": "0iQrhh9JjqaU"
      },
      "source": [
        "CATEGORIAS = ['com_mascara', 'sem_mascara']\n",
        "dados = []\n",
        "rotulos = []"
      ],
      "execution_count": null,
      "outputs": []
    },
    {
      "cell_type": "code",
      "metadata": {
        "id": "l2LPq8nGkAbt"
      },
      "source": [
        "# PEGAR AS IMAGENS CONTIDAS NO DATASET\n",
        "for categorias in CATEGORIAS:\n",
        "  pacote = os.path.join('dataset_otimizado/', categorias)\n",
        "  for img in os.listdir(pacote): # PERCORRER CADA IMAGEM\n",
        "    img_path = os.path.join(pacote, img)\n",
        "    image = keras.preprocessing.image.load_img(img_path, target_size=(224, 224)) # CARREGANDO IMAGENS E COLOCANDO TODAS NO MESMO TAMANHO\n",
        "    image = keras.preprocessing.image.img_to_array(image) # TRANSFORMAR CADA IMAGEM EM UM ARRAY DOS VALORES DO PIXEL\n",
        "    image = tf.keras.applications.mobilenet_v2.preprocess_input(image)\n",
        "\n",
        "    dados.append(image)\n",
        "    rotulos.append(categorias)"
      ],
      "execution_count": null,
      "outputs": []
    },
    {
      "cell_type": "code",
      "metadata": {
        "id": "IhUV4OtIm4jb"
      },
      "source": [
        "rotulo_binary = sklearn.preprocessing.LabelBinarizer()\n",
        "rotulos = rotulo_binary.fit_transform(rotulos)\n",
        "rotulos = keras.utils.to_categorical(rotulos)\n",
        "\n",
        "dados = np.array(dados, dtype='float32')\n",
        "rotulos = np.array(rotulos)\n",
        "(treinamento_images, teste_images, treinamento_labels, test_labels) = train_test_split(dados, rotulos, test_size=0.20, stratify=rotulos, random_state=42)"
      ],
      "execution_count": null,
      "outputs": []
    },
    {
      "cell_type": "code",
      "metadata": {
        "colab": {
          "base_uri": "https://localhost:8080/"
        },
        "id": "NL1boFnvbkd4",
        "outputId": "93b74ad7-e742-48f0-b4fa-0ec9e3ce2419"
      },
      "source": [
        "print(treinamento_images[0].shape)\n",
        "print(treinamento_labels[0])\n",
        "\n",
        "print(teste_images[0].shape)\n",
        "print(test_labels[0])"
      ],
      "execution_count": null,
      "outputs": [
        {
          "output_type": "stream",
          "text": [
            "(224, 224, 3)\n",
            "[0. 1.]\n",
            "(224, 224, 3)\n",
            "[1. 0.]\n"
          ],
          "name": "stdout"
        }
      ]
    },
    {
      "cell_type": "code",
      "metadata": {
        "colab": {
          "base_uri": "https://localhost:8080/"
        },
        "id": "_s0AmCQdEicM",
        "outputId": "3e1a8e08-d1f1-43a0-9da3-83f1c05fee44"
      },
      "source": [
        "modelo_base = keras.applications.MobileNetV2(input_tensor=keras.Input(shape=(224, 224, 3)),\n",
        "                                             include_top=False, weights='imagenet')\n",
        "\n",
        "input = modelo_base.output\n",
        "model = keras.layers.AveragePooling2D(pool_size=(7, 7))(input)\n",
        "model = keras.layers.Dense(128, activation=tf.nn.sigmoid)(input)\n",
        "model = keras.layers.Dropout(0.5)(model)\n",
        "output = keras.layers.Dense(1, activation='softmax')(model)                            \n",
        "\n",
        "model = keras.Model(inputs=modelo_base.input, outputs=output)"
      ],
      "execution_count": null,
      "outputs": [
        {
          "output_type": "stream",
          "text": [
            "WARNING:tensorflow:`input_shape` is undefined or non-square, or `rows` is not in [96, 128, 160, 192, 224]. Weights for input shape (224, 224) will be loaded as the default.\n"
          ],
          "name": "stdout"
        }
      ]
    },
    {
      "cell_type": "code",
      "metadata": {
        "id": "_93ySjXNwUHH"
      },
      "source": [
        "model.compile(loss=keras.losses.binary_crossentropy, \n",
        "              optimizer=keras.optimizers.Adam(), \n",
        "              metrics=[\"accuracy\"])"
      ],
      "execution_count": null,
      "outputs": []
    },
    {
      "cell_type": "code",
      "metadata": {
        "id": "vXFev2HByoy9"
      },
      "source": [
        "# TREINANDO O MODELO\n",
        "model.fit(treinamento_images, treinamento_labels, batch_size=32, epochs=20)"
      ],
      "execution_count": null,
      "outputs": []
    },
    {
      "cell_type": "code",
      "metadata": {
        "id": "RS4wmSfRD-qX"
      },
      "source": [
        "# FAZENDO PREDIÇÕES\n",
        "predicoes = model.predict(teste_x)\n",
        "\n",
        "for i in range(5):\n",
        "  plt.figure(figsize=(15,15))\n",
        "  plt.subplot(5,5,i+1)\n",
        "  plt.xticks([])\n",
        "  plt.yticks([])\n",
        "  plt.imshow(teste_x[i])\n",
        "plt.show()"
      ],
      "execution_count": null,
      "outputs": []
    },
    {
      "cell_type": "code",
      "metadata": {
        "colab": {
          "base_uri": "https://localhost:8080/"
        },
        "id": "wBiZ5YniOTCZ",
        "outputId": "24d43e25-3a53-4534-bee5-9c6abb579187"
      },
      "source": [
        "(loss, acc) = model.evaluate(teste_x, test_y)\n",
        "print(acc)"
      ],
      "execution_count": null,
      "outputs": [
        {
          "output_type": "stream",
          "text": [
            "7/7 [==============================] - 8s 1s/step - loss: 5.3623 - accuracy: 0.6634\n",
            "0.6633663177490234\n"
          ],
          "name": "stdout"
        }
      ]
    }
  ]
}